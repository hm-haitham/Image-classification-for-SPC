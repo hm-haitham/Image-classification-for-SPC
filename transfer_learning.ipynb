{
  "nbformat": 4,
  "nbformat_minor": 0,
  "metadata": {
    "accelerator": "GPU",
    "colab": {
      "name": "transfer_learning.ipynb",
      "provenance": []
    },
    "kernelspec": {
      "display_name": "Python 3",
      "language": "python",
      "name": "python3"
    },
    "language_info": {
      "codemirror_mode": {
        "name": "ipython",
        "version": 3
      },
      "file_extension": ".py",
      "mimetype": "text/x-python",
      "name": "python",
      "nbconvert_exporter": "python",
      "pygments_lexer": "ipython3",
      "version": "3.7.3"
    }
  },
  "cells": [
    {
      "cell_type": "code",
      "metadata": {
        "colab_type": "code",
        "id": "igLFmP--N0Pl",
        "outputId": "aecd37d3-9538-4d7d-d72a-9f55a0959495",
        "colab": {
          "base_uri": "https://localhost:8080/",
          "height": 62
        }
      },
      "source": [
        "import os \n",
        "import cv2\n",
        "import time\n",
        "import numpy as np\n",
        "import pandas as pd\n",
        "import matplotlib.pyplot as plt\n",
        "\n",
        "#Tensorflow\n",
        "import tensorflow as tf\n",
        "from tensorflow.keras.models import Sequential , Model\n",
        "from tensorflow.keras import layers\n",
        "from tensorflow.keras.layers import Dense, Conv2D, Flatten, Dropout, MaxPooling2D\n",
        "from tensorflow.keras.preprocessing.image import ImageDataGenerator\n",
        "%load_ext autoreload\n",
        "%autoreload 2"
      ],
      "execution_count": 1,
      "outputs": [
        {
          "output_type": "display_data",
          "data": {
            "text/html": [
              "<p style=\"color: red;\">\n",
              "The default version of TensorFlow in Colab will soon switch to TensorFlow 2.x.<br>\n",
              "We recommend you <a href=\"https://www.tensorflow.org/guide/migrate\" target=\"_blank\">upgrade</a> now \n",
              "or ensure your notebook will continue to use TensorFlow 1.x via the <code>%tensorflow_version 1.x</code> magic:\n",
              "<a href=\"https://colab.research.google.com/notebooks/tensorflow_version.ipynb\" target=\"_blank\">more info</a>.</p>\n"
            ],
            "text/plain": [
              "<IPython.core.display.HTML object>"
            ]
          },
          "metadata": {
            "tags": []
          }
        }
      ]
    },
    {
      "cell_type": "code",
      "metadata": {
        "colab_type": "code",
        "id": "JY80Oz28ORm5",
        "outputId": "082ceb3d-1b50-48f1-acc5-83d7679efff4",
        "colab": {
          "base_uri": "https://localhost:8080/",
          "height": 120
        }
      },
      "source": [
        "from google.colab import drive\n",
        "drive.mount('/content/drive')"
      ],
      "execution_count": 2,
      "outputs": [
        {
          "output_type": "stream",
          "text": [
            "Go to this URL in a browser: https://accounts.google.com/o/oauth2/auth?client_id=947318989803-6bn6qk8qdgf4n4g3pfee6491hc0brc4i.apps.googleusercontent.com&redirect_uri=urn%3aietf%3awg%3aoauth%3a2.0%3aoob&response_type=code&scope=email%20https%3a%2f%2fwww.googleapis.com%2fauth%2fdocs.test%20https%3a%2f%2fwww.googleapis.com%2fauth%2fdrive%20https%3a%2f%2fwww.googleapis.com%2fauth%2fdrive.photos.readonly%20https%3a%2f%2fwww.googleapis.com%2fauth%2fpeopleapi.readonly\n",
            "\n",
            "Enter your authorization code:\n",
            "··········\n",
            "Mounted at /content/drive\n"
          ],
          "name": "stdout"
        }
      ]
    },
    {
      "cell_type": "code",
      "metadata": {
        "colab_type": "code",
        "id": "61crTNO-O8PF",
        "outputId": "9ad284f9-1103-4a30-9b25-cc734022d540",
        "colab": {
          "base_uri": "https://localhost:8080/",
          "height": 50
        }
      },
      "source": [
        "device_name = tf.test.gpu_device_name()\n",
        "print(device_name)\n",
        "if device_name != '/device:GPU:0':\n",
        "    device_name=\"/CPU:0\"\n",
        "print('device is : {}'.format(device_name))"
      ],
      "execution_count": 3,
      "outputs": [
        {
          "output_type": "stream",
          "text": [
            "/device:GPU:0\n",
            "device is : /device:GPU:0\n"
          ],
          "name": "stdout"
        }
      ]
    },
    {
      "cell_type": "code",
      "metadata": {
        "colab_type": "code",
        "id": "c2hG1DhdN0Pz",
        "colab": {}
      },
      "source": [
        "data=np.load(\"drive/My Drive/data/shots.npz\")"
      ],
      "execution_count": 0,
      "outputs": []
    },
    {
      "cell_type": "code",
      "metadata": {
        "colab_type": "code",
        "id": "9zJYmOtYN0QI",
        "colab": {}
      },
      "source": [
        "shots=data[\"shots\"]\n",
        "labels=data[\"labels\"]\n",
        "keys=data[\"keys\"]\n",
        "vals=data[\"vals\"]\n"
      ],
      "execution_count": 0,
      "outputs": []
    },
    {
      "cell_type": "code",
      "metadata": {
        "colab_type": "code",
        "id": "n7pOdFB5N0QT",
        "outputId": "b1a81b10-4fc8-4669-9f4a-77da5db20df5",
        "colab": {
          "base_uri": "https://localhost:8080/",
          "height": 822
        }
      },
      "source": [
        "pd.DataFrame({\"videos\":keys,\"frames\":vals})"
      ],
      "execution_count": 7,
      "outputs": [
        {
          "output_type": "execute_result",
          "data": {
            "text/html": [
              "<div>\n",
              "<style scoped>\n",
              "    .dataframe tbody tr th:only-of-type {\n",
              "        vertical-align: middle;\n",
              "    }\n",
              "\n",
              "    .dataframe tbody tr th {\n",
              "        vertical-align: top;\n",
              "    }\n",
              "\n",
              "    .dataframe thead th {\n",
              "        text-align: right;\n",
              "    }\n",
              "</style>\n",
              "<table border=\"1\" class=\"dataframe\">\n",
              "  <thead>\n",
              "    <tr style=\"text-align: right;\">\n",
              "      <th></th>\n",
              "      <th>videos</th>\n",
              "      <th>frames</th>\n",
              "    </tr>\n",
              "  </thead>\n",
              "  <tbody>\n",
              "    <tr>\n",
              "      <th>0</th>\n",
              "      <td>63000</td>\n",
              "      <td>441</td>\n",
              "    </tr>\n",
              "    <tr>\n",
              "      <th>1</th>\n",
              "      <td>63008</td>\n",
              "      <td>735</td>\n",
              "    </tr>\n",
              "    <tr>\n",
              "      <th>2</th>\n",
              "      <td>63009</td>\n",
              "      <td>1175</td>\n",
              "    </tr>\n",
              "    <tr>\n",
              "      <th>3</th>\n",
              "      <td>62625</td>\n",
              "      <td>1527</td>\n",
              "    </tr>\n",
              "    <tr>\n",
              "      <th>4</th>\n",
              "      <td>62629</td>\n",
              "      <td>1807</td>\n",
              "    </tr>\n",
              "    <tr>\n",
              "      <th>5</th>\n",
              "      <td>62700</td>\n",
              "      <td>2247</td>\n",
              "    </tr>\n",
              "    <tr>\n",
              "      <th>6</th>\n",
              "      <td>62701</td>\n",
              "      <td>2687</td>\n",
              "    </tr>\n",
              "    <tr>\n",
              "      <th>7</th>\n",
              "      <td>62720</td>\n",
              "      <td>3127</td>\n",
              "    </tr>\n",
              "    <tr>\n",
              "      <th>8</th>\n",
              "      <td>64000</td>\n",
              "      <td>3171</td>\n",
              "    </tr>\n",
              "    <tr>\n",
              "      <th>9</th>\n",
              "      <td>63540</td>\n",
              "      <td>3523</td>\n",
              "    </tr>\n",
              "    <tr>\n",
              "      <th>10</th>\n",
              "      <td>62900</td>\n",
              "      <td>3943</td>\n",
              "    </tr>\n",
              "    <tr>\n",
              "      <th>11</th>\n",
              "      <td>63180</td>\n",
              "      <td>3986</td>\n",
              "    </tr>\n",
              "    <tr>\n",
              "      <th>12</th>\n",
              "      <td>63185</td>\n",
              "      <td>4162</td>\n",
              "    </tr>\n",
              "    <tr>\n",
              "      <th>13</th>\n",
              "      <td>63300</td>\n",
              "      <td>4506</td>\n",
              "    </tr>\n",
              "    <tr>\n",
              "      <th>14</th>\n",
              "      <td>64885</td>\n",
              "      <td>4858</td>\n",
              "    </tr>\n",
              "    <tr>\n",
              "      <th>15</th>\n",
              "      <td>65152</td>\n",
              "      <td>5202</td>\n",
              "    </tr>\n",
              "    <tr>\n",
              "      <th>16</th>\n",
              "      <td>65157</td>\n",
              "      <td>5642</td>\n",
              "    </tr>\n",
              "    <tr>\n",
              "      <th>17</th>\n",
              "      <td>64900</td>\n",
              "      <td>6082</td>\n",
              "    </tr>\n",
              "    <tr>\n",
              "      <th>18</th>\n",
              "      <td>62356</td>\n",
              "      <td>6478</td>\n",
              "    </tr>\n",
              "    <tr>\n",
              "      <th>19</th>\n",
              "      <td>64514</td>\n",
              "      <td>6830</td>\n",
              "    </tr>\n",
              "    <tr>\n",
              "      <th>20</th>\n",
              "      <td>64520</td>\n",
              "      <td>7182</td>\n",
              "    </tr>\n",
              "    <tr>\n",
              "      <th>21</th>\n",
              "      <td>64524</td>\n",
              "      <td>7622</td>\n",
              "    </tr>\n",
              "    <tr>\n",
              "      <th>22</th>\n",
              "      <td>63119</td>\n",
              "      <td>7959</td>\n",
              "    </tr>\n",
              "    <tr>\n",
              "      <th>23</th>\n",
              "      <td>63174</td>\n",
              "      <td>8303</td>\n",
              "    </tr>\n",
              "    <tr>\n",
              "      <th>24</th>\n",
              "      <td>62407</td>\n",
              "      <td>8655</td>\n",
              "    </tr>\n",
              "    <tr>\n",
              "      <th>25</th>\n",
              "      <td>63925</td>\n",
              "      <td>9007</td>\n",
              "    </tr>\n",
              "  </tbody>\n",
              "</table>\n",
              "</div>"
            ],
            "text/plain": [
              "    videos  frames\n",
              "0    63000     441\n",
              "1    63008     735\n",
              "2    63009    1175\n",
              "3    62625    1527\n",
              "4    62629    1807\n",
              "5    62700    2247\n",
              "6    62701    2687\n",
              "7    62720    3127\n",
              "8    64000    3171\n",
              "9    63540    3523\n",
              "10   62900    3943\n",
              "11   63180    3986\n",
              "12   63185    4162\n",
              "13   63300    4506\n",
              "14   64885    4858\n",
              "15   65152    5202\n",
              "16   65157    5642\n",
              "17   64900    6082\n",
              "18   62356    6478\n",
              "19   64514    6830\n",
              "20   64520    7182\n",
              "21   64524    7622\n",
              "22   63119    7959\n",
              "23   63174    8303\n",
              "24   62407    8655\n",
              "25   63925    9007"
            ]
          },
          "metadata": {
            "tags": []
          },
          "execution_count": 7
        }
      ]
    },
    {
      "cell_type": "code",
      "metadata": {
        "colab_type": "code",
        "id": "prpN-A0VN0QZ",
        "outputId": "cf774915-2eb9-42b3-fa9e-18b526815e99",
        "colab": {
          "base_uri": "https://localhost:8080/",
          "height": 33
        }
      },
      "source": [
        "# Changing the labels to match the x point classification\n",
        "labels[4506:5642]=0\n",
        "\n",
        "# Selected validation videos\n",
        "validation_index=np.concatenate((np.arange(5202,5642),np.arange(6478,6830),np.arange(7182,7622),np.arange(7959,8303)))\n",
        "validation_index.shape"
      ],
      "execution_count": 8,
      "outputs": [
        {
          "output_type": "execute_result",
          "data": {
            "text/plain": [
              "(1576,)"
            ]
          },
          "metadata": {
            "tags": []
          },
          "execution_count": 8
        }
      ]
    },
    {
      "cell_type": "code",
      "metadata": {
        "colab_type": "code",
        "id": "PWM0NvrzN0Qj",
        "colab": {}
      },
      "source": [
        "ratio=0.5\n",
        "# set up a mask to subset the training set\n",
        "mask = np.ones(len(labels), np.bool)\n",
        "mask[validation_index] = 0\n",
        "\n",
        "# seperating validation set\n",
        "x_tr=shots[mask]\n",
        "x_te=shots[validation_index]\n",
        "y_tr=labels[mask]\n",
        "y_te=labels[validation_index]\n",
        "\n",
        "# Reducing overfitting by remove shots where we both have the outer leg and the x point\n",
        "# set seed\n",
        "np.random.seed(1)\n",
        "\n",
        "# generate random indices\n",
        "num_row = len(y_tr)\n",
        "indices = np.random.permutation(num_row)\n",
        "index_split = int(np.floor(ratio * num_row))\n",
        "index_kept = indices[: index_split]\n",
        "# reducing train size\n",
        "x_tr=x_tr[index_kept]\n",
        "y_tr=y_tr[index_kept]\n",
        "# splitting the rest to train / test sets\n",
        "#x_tr, x_te, y_tr, y_te=split_data(shots_train,labels_train,ratio)\n"
      ],
      "execution_count": 0,
      "outputs": []
    },
    {
      "cell_type": "code",
      "metadata": {
        "colab_type": "code",
        "id": "osa6RDRPN0Qs",
        "outputId": "8fbbf3c0-ab68-4a9b-8c82-f849a0045594",
        "colab": {
          "base_uri": "https://localhost:8080/",
          "height": 33
        }
      },
      "source": [
        "y_tr.shape, y_te.shape "
      ],
      "execution_count": 10,
      "outputs": [
        {
          "output_type": "execute_result",
          "data": {
            "text/plain": [
              "((3715,), (1576,))"
            ]
          },
          "metadata": {
            "tags": []
          },
          "execution_count": 10
        }
      ]
    },
    {
      "cell_type": "code",
      "metadata": {
        "colab_type": "code",
        "id": "CD6eOY3tN0Q1",
        "outputId": "a23fa1d1-f788-438d-af9c-f47cd904fdbc",
        "colab": {
          "base_uri": "https://localhost:8080/",
          "height": 605
        }
      },
      "source": [
        "IMG_HEIGHT = 128\n",
        "IMG_WIDTH = 128\n",
        "with tf.device(device_name):\n",
        "  base_model = tf.keras.models.load_model('drive/My Drive/data/trained_model.h5')\n",
        "  base_model.trainable = False\n",
        "  base_model.pop()\n",
        "  base_model.compile(optimizer='adam',\n",
        "                    loss='binary_crossentropy',\n",
        "                    metrics=['accuracy'])\n",
        "  base_model.summary()"
      ],
      "execution_count": 11,
      "outputs": [
        {
          "output_type": "stream",
          "text": [
            "WARNING:tensorflow:From /usr/local/lib/python3.6/dist-packages/tensorflow_core/python/ops/init_ops.py:97: calling GlorotUniform.__init__ (from tensorflow.python.ops.init_ops) with dtype is deprecated and will be removed in a future version.\n",
            "Instructions for updating:\n",
            "Call initializer instance with the dtype argument instead of passing it to the constructor\n",
            "WARNING:tensorflow:From /usr/local/lib/python3.6/dist-packages/tensorflow_core/python/ops/init_ops.py:97: calling Zeros.__init__ (from tensorflow.python.ops.init_ops) with dtype is deprecated and will be removed in a future version.\n",
            "Instructions for updating:\n",
            "Call initializer instance with the dtype argument instead of passing it to the constructor\n",
            "WARNING:tensorflow:From /usr/local/lib/python3.6/dist-packages/tensorflow_core/python/ops/resource_variable_ops.py:1630: calling BaseResourceVariable.__init__ (from tensorflow.python.ops.resource_variable_ops) with constraint is deprecated and will be removed in a future version.\n",
            "Instructions for updating:\n",
            "If using Keras pass *_constraint arguments to layers.\n",
            "WARNING:tensorflow:From /usr/local/lib/python3.6/dist-packages/tensorflow_core/python/ops/nn_impl.py:183: where (from tensorflow.python.ops.array_ops) is deprecated and will be removed in a future version.\n",
            "Instructions for updating:\n",
            "Use tf.where in 2.0, which has the same broadcast rule as np.where\n",
            "Model: \"sequential\"\n",
            "_________________________________________________________________\n",
            "Layer (type)                 Output Shape              Param #   \n",
            "=================================================================\n",
            "conv2d (Conv2D)              (None, 128, 128, 16)      1952      \n",
            "_________________________________________________________________\n",
            "max_pooling2d (MaxPooling2D) (None, 64, 64, 16)        0         \n",
            "_________________________________________________________________\n",
            "conv2d_1 (Conv2D)            (None, 64, 64, 32)        61984     \n",
            "_________________________________________________________________\n",
            "max_pooling2d_1 (MaxPooling2 (None, 32, 32, 32)        0         \n",
            "_________________________________________________________________\n",
            "flatten (Flatten)            (None, 32768)             0         \n",
            "_________________________________________________________________\n",
            "dense (Dense)                (None, 128)               4194432   \n",
            "_________________________________________________________________\n",
            "dropout (Dropout)            (None, 128)               0         \n",
            "=================================================================\n",
            "Total params: 4,258,368\n",
            "Trainable params: 0\n",
            "Non-trainable params: 4,258,368\n",
            "_________________________________________________________________\n"
          ],
          "name": "stdout"
        }
      ]
    },
    {
      "cell_type": "code",
      "metadata": {
        "colab_type": "code",
        "id": "57U3-ZdyN0Q9",
        "outputId": "470fa93a-a601-4c64-aa5c-39b9f31b1afb",
        "colab": {
          "base_uri": "https://localhost:8080/",
          "height": 452
        }
      },
      "source": [
        "\n",
        "with tf.device(device_name):\n",
        "  x = base_model.output\n",
        "  x = layers.Dense(1, activation='sigmoid', name=\"dense_3\")(x)\n",
        "\n",
        "  model_3 = Model(inputs=base_model.input, outputs=x)\n",
        "  model_3.compile(optimizer='adam',\n",
        "                    loss='binary_crossentropy',\n",
        "                    metrics=['accuracy'])\n",
        "  model_3.summary()"
      ],
      "execution_count": 12,
      "outputs": [
        {
          "output_type": "stream",
          "text": [
            "Model: \"model\"\n",
            "_________________________________________________________________\n",
            "Layer (type)                 Output Shape              Param #   \n",
            "=================================================================\n",
            "conv2d_input (InputLayer)    [(None, 128, 128, 1)]     0         \n",
            "_________________________________________________________________\n",
            "conv2d (Conv2D)              (None, 128, 128, 16)      1952      \n",
            "_________________________________________________________________\n",
            "max_pooling2d (MaxPooling2D) (None, 64, 64, 16)        0         \n",
            "_________________________________________________________________\n",
            "conv2d_1 (Conv2D)            (None, 64, 64, 32)        61984     \n",
            "_________________________________________________________________\n",
            "max_pooling2d_1 (MaxPooling2 (None, 32, 32, 32)        0         \n",
            "_________________________________________________________________\n",
            "flatten (Flatten)            (None, 32768)             0         \n",
            "_________________________________________________________________\n",
            "dense (Dense)                (None, 128)               4194432   \n",
            "_________________________________________________________________\n",
            "dropout (Dropout)            (None, 128)               0         \n",
            "_________________________________________________________________\n",
            "dense_3 (Dense)              (None, 1)                 129       \n",
            "=================================================================\n",
            "Total params: 4,258,497\n",
            "Trainable params: 129\n",
            "Non-trainable params: 4,258,368\n",
            "_________________________________________________________________\n"
          ],
          "name": "stdout"
        }
      ]
    },
    {
      "cell_type": "code",
      "metadata": {
        "colab_type": "code",
        "id": "Ul86gy7YN0RE",
        "outputId": "5c85a0b8-7832-4f37-a815-d8dd2b8663df",
        "colab": {
          "base_uri": "https://localhost:8080/",
          "height": 297
        }
      },
      "source": [
        "plt.imshow(shots[5000,:,:,0])\n",
        "plt.title(\"Shot where we see the outer leg but not the x point\")"
      ],
      "execution_count": 13,
      "outputs": [
        {
          "output_type": "execute_result",
          "data": {
            "text/plain": [
              "Text(0.5, 1.0, 'Shot where we see the outer leg but not the x point')"
            ]
          },
          "metadata": {
            "tags": []
          },
          "execution_count": 13
        },
        {
          "output_type": "display_data",
          "data": {
            "image/png": "[encoded data removed]",
            "text/plain": [
              "<Figure size 432x288 with 1 Axes>"
            ]
          },
          "metadata": {
            "tags": []
          }
        }
      ]
    },
    {
      "cell_type": "code",
      "metadata": {
        "colab_type": "code",
        "id": "Cae_2tLHN0RL",
        "colab": {}
      },
      "source": [
        "train_image_generator = ImageDataGenerator(rescale=1./4096, \n",
        "                                           rotation_range=30,\n",
        "                                           width_shift_range=0.1,\n",
        "                                           height_shift_range=0.1,\n",
        "                                           shear_range=10,\n",
        "                                           zoom_range=0.1,\n",
        "                                           horizontal_flip=True,\n",
        "                                          )\n",
        "validation_image_generator = ImageDataGenerator(rescale=1./4096)\n",
        "\n",
        "train_data_gen = train_image_generator.flow(x_tr,y_tr)\n",
        "val_data_gen = validation_image_generator.flow(x_te,y_te)"
      ],
      "execution_count": 0,
      "outputs": []
    },
    {
      "cell_type": "code",
      "metadata": {
        "colab_type": "code",
        "id": "hPH0PAaKN0RT",
        "outputId": "362ae4ca-6cfe-4abf-d66f-06e6e8f937b0",
        "colab": {
          "base_uri": "https://localhost:8080/",
          "height": 1000
        }
      },
      "source": [
        "total_train=int(x_tr.shape[0])\n",
        "total_val=int(x_te.shape[0])\n",
        "epochs = 50\n",
        "batch_size=128\n",
        "#with tf.device('/device:GPU:0'):\n",
        "history=model_3.fit_generator(\n",
        "              train_data_gen,\n",
        "              steps_per_epoch=total_train // batch_size,\n",
        "              epochs=epochs,\n",
        "              validation_data=val_data_gen,\n",
        "              \n",
        "              validation_steps=total_val // batch_size\n",
        "          )"
      ],
      "execution_count": 14,
      "outputs": [
        {
          "output_type": "stream",
          "text": [
            "Epoch 1/50\n",
            "28/29 [===========================>..] - ETA: 0s - loss: 0.3983 - acc: 0.8326Epoch 1/50\n",
            "29/29 [==============================] - 7s 252ms/step - loss: 0.3900 - acc: 0.8351 - val_loss: 0.4535 - val_acc: 0.7917\n",
            "Epoch 2/50\n",
            "27/29 [==========================>...] - ETA: 0s - loss: 0.3283 - acc: 0.8565Epoch 1/50\n",
            "29/29 [==============================] - 1s 41ms/step - loss: 0.3230 - acc: 0.8588 - val_loss: 0.4583 - val_acc: 0.8411\n",
            "Epoch 3/50\n",
            "27/29 [==========================>...] - ETA: 0s - loss: 0.2450 - acc: 0.8993Epoch 1/50\n",
            "29/29 [==============================] - 1s 41ms/step - loss: 0.2409 - acc: 0.8987 - val_loss: 0.4812 - val_acc: 0.8542\n",
            "Epoch 4/50\n",
            "27/29 [==========================>...] - ETA: 0s - loss: 0.3200 - acc: 0.8719Epoch 1/50\n",
            "29/29 [==============================] - 1s 40ms/step - loss: 0.3141 - acc: 0.8743 - val_loss: 0.3937 - val_acc: 0.8542\n",
            "Epoch 5/50\n",
            "28/29 [===========================>..] - ETA: 0s - loss: 0.2612 - acc: 0.8839Epoch 1/50\n",
            "29/29 [==============================] - 1s 43ms/step - loss: 0.2712 - acc: 0.8836 - val_loss: 0.3508 - val_acc: 0.8568\n",
            "Epoch 6/50\n",
            "28/29 [===========================>..] - ETA: 0s - loss: 0.2560 - acc: 0.8917Epoch 1/50\n",
            "29/29 [==============================] - 1s 43ms/step - loss: 0.2613 - acc: 0.8901 - val_loss: 0.3251 - val_acc: 0.8620\n",
            "Epoch 7/50\n",
            "27/29 [==========================>...] - ETA: 0s - loss: 0.2483 - acc: 0.9030Epoch 1/50\n",
            "29/29 [==============================] - 1s 41ms/step - loss: 0.2460 - acc: 0.9021 - val_loss: 0.2841 - val_acc: 0.8620\n",
            "Epoch 8/50\n",
            "27/29 [==========================>...] - ETA: 0s - loss: 0.2694 - acc: 0.8970Epoch 1/50\n",
            "29/29 [==============================] - 1s 42ms/step - loss: 0.2648 - acc: 0.8976 - val_loss: 0.2570 - val_acc: 0.8698\n",
            "Epoch 9/50\n",
            "27/29 [==========================>...] - ETA: 0s - loss: 0.2335 - acc: 0.9016Epoch 1/50\n",
            "29/29 [==============================] - 1s 41ms/step - loss: 0.2266 - acc: 0.9062 - val_loss: 0.2554 - val_acc: 0.8698\n",
            "Epoch 10/50\n",
            "27/29 [==========================>...] - ETA: 0s - loss: 0.2183 - acc: 0.9039Epoch 1/50\n",
            "29/29 [==============================] - 1s 41ms/step - loss: 0.2156 - acc: 0.9041 - val_loss: 0.2062 - val_acc: 0.8932\n",
            "Epoch 11/50\n",
            "27/29 [==========================>...] - ETA: 0s - loss: 0.2332 - acc: 0.8935Epoch 1/50\n",
            "29/29 [==============================] - 1s 41ms/step - loss: 0.2499 - acc: 0.8901 - val_loss: 0.2202 - val_acc: 0.8854\n",
            "Epoch 12/50\n",
            "28/29 [===========================>..] - ETA: 0s - loss: 0.1977 - acc: 0.9066Epoch 1/50\n",
            "29/29 [==============================] - 1s 41ms/step - loss: 0.1973 - acc: 0.9077 - val_loss: 0.2504 - val_acc: 0.8724\n",
            "Epoch 13/50\n",
            "27/29 [==========================>...] - ETA: 0s - loss: 0.2068 - acc: 0.9144Epoch 1/50\n",
            "29/29 [==============================] - 1s 40ms/step - loss: 0.2107 - acc: 0.9127 - val_loss: 0.2140 - val_acc: 0.8880\n",
            "Epoch 14/50\n",
            "27/29 [==========================>...] - ETA: 0s - loss: 0.2054 - acc: 0.9051Epoch 1/50\n",
            "29/29 [==============================] - 1s 42ms/step - loss: 0.2031 - acc: 0.9062 - val_loss: 0.1858 - val_acc: 0.9115\n",
            "Epoch 15/50\n",
            "27/29 [==========================>...] - ETA: 0s - loss: 0.2335 - acc: 0.9097Epoch 1/50\n",
            "29/29 [==============================] - 1s 42ms/step - loss: 0.2318 - acc: 0.9106 - val_loss: 0.1685 - val_acc: 0.9219\n",
            "Epoch 16/50\n",
            "28/29 [===========================>..] - ETA: 0s - loss: 0.2498 - acc: 0.8839Epoch 1/50\n",
            "29/29 [==============================] - 1s 42ms/step - loss: 0.2475 - acc: 0.8858 - val_loss: 0.1428 - val_acc: 0.9349\n",
            "Epoch 17/50\n",
            "27/29 [==========================>...] - ETA: 0s - loss: 0.1851 - acc: 0.9234Epoch 1/50\n",
            "29/29 [==============================] - 1s 41ms/step - loss: 0.1849 - acc: 0.9244 - val_loss: 0.1480 - val_acc: 0.9297\n",
            "Epoch 18/50\n",
            "27/29 [==========================>...] - ETA: 0s - loss: 0.1733 - acc: 0.9269Epoch 1/50\n",
            "29/29 [==============================] - 1s 42ms/step - loss: 0.1684 - acc: 0.9277 - val_loss: 0.1605 - val_acc: 0.9193\n",
            "Epoch 19/50\n",
            "28/29 [===========================>..] - ETA: 0s - loss: 0.2206 - acc: 0.9096Epoch 1/50\n",
            "29/29 [==============================] - 1s 43ms/step - loss: 0.2229 - acc: 0.9095 - val_loss: 0.1223 - val_acc: 0.9427\n",
            "Epoch 20/50\n",
            "27/29 [==========================>...] - ETA: 0s - loss: 0.2119 - acc: 0.9109Epoch 1/50\n",
            "29/29 [==============================] - 1s 40ms/step - loss: 0.2119 - acc: 0.9116 - val_loss: 0.1209 - val_acc: 0.9427\n",
            "Epoch 21/50\n",
            "28/29 [===========================>..] - ETA: 0s - loss: 0.1806 - acc: 0.9286Epoch 1/50\n",
            "29/29 [==============================] - 1s 42ms/step - loss: 0.1840 - acc: 0.9256 - val_loss: 0.1528 - val_acc: 0.9245\n",
            "Epoch 22/50\n",
            "28/29 [===========================>..] - ETA: 0s - loss: 0.2084 - acc: 0.9196Epoch 1/50\n",
            "29/29 [==============================] - 1s 42ms/step - loss: 0.2111 - acc: 0.9170 - val_loss: 0.1333 - val_acc: 0.9375\n",
            "Epoch 23/50\n",
            "28/29 [===========================>..] - ETA: 0s - loss: 0.1837 - acc: 0.9181Epoch 1/50\n",
            "29/29 [==============================] - 1s 39ms/step - loss: 0.1832 - acc: 0.9166 - val_loss: 0.1157 - val_acc: 0.9479\n",
            "Epoch 24/50\n",
            "28/29 [===========================>..] - ETA: 0s - loss: 0.1759 - acc: 0.9241Epoch 1/50\n",
            "29/29 [==============================] - 1s 42ms/step - loss: 0.1734 - acc: 0.9256 - val_loss: 0.1146 - val_acc: 0.9453\n",
            "Epoch 25/50\n",
            "27/29 [==========================>...] - ETA: 0s - loss: 0.1823 - acc: 0.9225Epoch 1/50\n",
            "29/29 [==============================] - 1s 42ms/step - loss: 0.1852 - acc: 0.9235 - val_loss: 0.1038 - val_acc: 0.9609\n",
            "Epoch 26/50\n",
            "28/29 [===========================>..] - ETA: 0s - loss: 0.2000 - acc: 0.9096Epoch 1/50\n",
            "29/29 [==============================] - 1s 43ms/step - loss: 0.1975 - acc: 0.9116 - val_loss: 0.1082 - val_acc: 0.9531\n",
            "Epoch 27/50\n",
            "27/29 [==========================>...] - ETA: 0s - loss: 0.2088 - acc: 0.9120Epoch 1/50\n",
            "29/29 [==============================] - 1s 42ms/step - loss: 0.2057 - acc: 0.9106 - val_loss: 0.1272 - val_acc: 0.9375\n",
            "Epoch 28/50\n",
            "28/29 [===========================>..] - ETA: 0s - loss: 0.1929 - acc: 0.9250Epoch 1/50\n",
            "29/29 [==============================] - 1s 40ms/step - loss: 0.1930 - acc: 0.9232 - val_loss: 0.1045 - val_acc: 0.9635\n",
            "Epoch 29/50\n",
            "28/29 [===========================>..] - ETA: 0s - loss: 0.1636 - acc: 0.9230Epoch 1/50\n",
            "29/29 [==============================] - 1s 44ms/step - loss: 0.1617 - acc: 0.9246 - val_loss: 0.1055 - val_acc: 0.9609\n",
            "Epoch 30/50\n",
            "28/29 [===========================>..] - ETA: 0s - loss: 0.2082 - acc: 0.9262Epoch 1/50\n",
            "29/29 [==============================] - 1s 40ms/step - loss: 0.2069 - acc: 0.9266 - val_loss: 0.1051 - val_acc: 0.9635\n",
            "Epoch 31/50\n",
            "28/29 [===========================>..] - ETA: 0s - loss: 0.1981 - acc: 0.9163Epoch 1/50\n",
            "29/29 [==============================] - 1s 41ms/step - loss: 0.1967 - acc: 0.9159 - val_loss: 0.0890 - val_acc: 0.9792\n",
            "Epoch 32/50\n",
            "27/29 [==========================>...] - ETA: 0s - loss: 0.1975 - acc: 0.9248Epoch 1/50\n",
            "29/29 [==============================] - 1s 41ms/step - loss: 0.1948 - acc: 0.9235 - val_loss: 0.1041 - val_acc: 0.9557\n",
            "Epoch 33/50\n",
            "27/29 [==========================>...] - ETA: 0s - loss: 0.2032 - acc: 0.9225Epoch 1/50\n",
            "29/29 [==============================] - 1s 42ms/step - loss: 0.2027 - acc: 0.9203 - val_loss: 0.0935 - val_acc: 0.9740\n",
            "Epoch 34/50\n",
            "27/29 [==========================>...] - ETA: 0s - loss: 0.1634 - acc: 0.9468Epoch 1/50\n",
            "29/29 [==============================] - 1s 41ms/step - loss: 0.1590 - acc: 0.9483 - val_loss: 0.1014 - val_acc: 0.9661\n",
            "Epoch 35/50\n",
            "28/29 [===========================>..] - ETA: 0s - loss: 0.1878 - acc: 0.9216Epoch 1/50\n",
            "29/29 [==============================] - 1s 40ms/step - loss: 0.1882 - acc: 0.9210 - val_loss: 0.0868 - val_acc: 0.9792\n",
            "Epoch 36/50\n",
            "27/29 [==========================>...] - ETA: 0s - loss: 0.1562 - acc: 0.9317Epoch 1/50\n",
            "29/29 [==============================] - 1s 41ms/step - loss: 0.1548 - acc: 0.9321 - val_loss: 0.0959 - val_acc: 0.9714\n",
            "Epoch 37/50\n",
            "28/29 [===========================>..] - ETA: 0s - loss: 0.1739 - acc: 0.9342Epoch 1/50\n",
            "29/29 [==============================] - 1s 41ms/step - loss: 0.1815 - acc: 0.9321 - val_loss: 0.1033 - val_acc: 0.9609\n",
            "Epoch 38/50\n",
            "27/29 [==========================>...] - ETA: 0s - loss: 0.1782 - acc: 0.9340Epoch 1/50\n",
            "29/29 [==============================] - 1s 41ms/step - loss: 0.1748 - acc: 0.9343 - val_loss: 0.0746 - val_acc: 0.9870\n",
            "Epoch 39/50\n",
            "27/29 [==========================>...] - ETA: 0s - loss: 0.1652 - acc: 0.9294Epoch 1/50\n",
            "29/29 [==============================] - 1s 42ms/step - loss: 0.1657 - acc: 0.9278 - val_loss: 0.0944 - val_acc: 0.9714\n",
            "Epoch 40/50\n",
            "27/29 [==========================>...] - ETA: 0s - loss: 0.1948 - acc: 0.9210Epoch 1/50\n",
            "29/29 [==============================] - 1s 41ms/step - loss: 0.1961 - acc: 0.9188 - val_loss: 0.0918 - val_acc: 0.9766\n",
            "Epoch 41/50\n",
            "27/29 [==========================>...] - ETA: 0s - loss: 0.1365 - acc: 0.9473Epoch 1/50\n",
            "29/29 [==============================] - 1s 41ms/step - loss: 0.1400 - acc: 0.9422 - val_loss: 0.1010 - val_acc: 0.9609\n",
            "Epoch 42/50\n",
            "28/29 [===========================>..] - ETA: 0s - loss: 0.1999 - acc: 0.9141Epoch 1/50\n",
            "29/29 [==============================] - 1s 42ms/step - loss: 0.1969 - acc: 0.9138 - val_loss: 0.1086 - val_acc: 0.9557\n",
            "Epoch 43/50\n",
            "27/29 [==========================>...] - ETA: 0s - loss: 0.1807 - acc: 0.9248Epoch 1/50\n",
            "29/29 [==============================] - 1s 42ms/step - loss: 0.1753 - acc: 0.9256 - val_loss: 0.1020 - val_acc: 0.9609\n",
            "Epoch 44/50\n",
            "27/29 [==========================>...] - ETA: 0s - loss: 0.1740 - acc: 0.9306Epoch 1/50\n",
            "29/29 [==============================] - 1s 43ms/step - loss: 0.1825 - acc: 0.9267 - val_loss: 0.0902 - val_acc: 0.9714\n",
            "Epoch 45/50\n",
            "27/29 [==========================>...] - ETA: 0s - loss: 0.1580 - acc: 0.9410Epoch 1/50\n",
            "29/29 [==============================] - 1s 42ms/step - loss: 0.1598 - acc: 0.9397 - val_loss: 0.0878 - val_acc: 0.9740\n",
            "Epoch 46/50\n",
            "27/29 [==========================>...] - ETA: 0s - loss: 0.1615 - acc: 0.9410Epoch 1/50\n",
            "29/29 [==============================] - 1s 42ms/step - loss: 0.1601 - acc: 0.9397 - val_loss: 0.0880 - val_acc: 0.9740\n",
            "Epoch 47/50\n",
            "27/29 [==========================>...] - ETA: 0s - loss: 0.1610 - acc: 0.9398Epoch 1/50\n",
            "29/29 [==============================] - 1s 41ms/step - loss: 0.1624 - acc: 0.9375 - val_loss: 0.0817 - val_acc: 0.9766\n",
            "Epoch 48/50\n",
            "28/29 [===========================>..] - ETA: 0s - loss: 0.1785 - acc: 0.9216Epoch 1/50\n",
            "29/29 [==============================] - 1s 40ms/step - loss: 0.1755 - acc: 0.9244 - val_loss: 0.0725 - val_acc: 0.9844\n",
            "Epoch 49/50\n",
            "27/29 [==========================>...] - ETA: 0s - loss: 0.1408 - acc: 0.9421Epoch 1/50\n",
            "29/29 [==============================] - 1s 44ms/step - loss: 0.1373 - acc: 0.9440 - val_loss: 0.0892 - val_acc: 0.9714\n",
            "Epoch 50/50\n",
            "27/29 [==========================>...] - ETA: 0s - loss: 0.1832 - acc: 0.9222Epoch 1/50\n",
            "29/29 [==============================] - 1s 41ms/step - loss: 0.1817 - acc: 0.9232 - val_loss: 0.0736 - val_acc: 0.9818\n"
          ],
          "name": "stdout"
        }
      ]
    },
    {
      "cell_type": "code",
      "metadata": {
        "colab_type": "code",
        "id": "v9s5moVLN0RZ",
        "outputId": "76767116-5bf4-4f35-aad3-03a9b5c1b3bf",
        "colab": {
          "base_uri": "https://localhost:8080/",
          "height": 390
        }
      },
      "source": [
        "acc = history.history['acc']\n",
        "val_acc = history.history['val_acc']\n",
        "\n",
        "loss = history.history['loss']\n",
        "val_loss = history.history['val_loss']\n",
        "\n",
        "epochs_range = range(epochs)\n",
        "\n",
        "plt.figure(figsize=(12, 6))\n",
        "plt.subplot(1, 2, 1)\n",
        "plt.plot(epochs_range, acc, label='Training Accuracy')\n",
        "plt.plot(epochs_range, val_acc, label='Validation Accuracy')\n",
        "plt.legend(loc='lower right')\n",
        "plt.title('Training and Validation Accuracy')\n",
        "\n",
        "plt.subplot(1, 2, 2)\n",
        "plt.plot(epochs_range, loss, label='Training Loss')\n",
        "plt.plot(epochs_range, val_loss, label='Validation Loss')\n",
        "plt.legend(loc='upper right')\n",
        "plt.title('Training and Validation Loss')\n",
        "plt.show()"
      ],
      "execution_count": 15,
      "outputs": [
        {
          "output_type": "display_data",
          "data": {
            "image/png": "[encoded data removed]",
            "text/plain": [
              "<Figure size 864x432 with 2 Axes>"
            ]
          },
          "metadata": {
            "tags": []
          }
        }
      ]
    },
    {
      "cell_type": "code",
      "metadata": {
        "colab_type": "code",
        "id": "o7fH6iceQIF5",
        "outputId": "e34313dc-b79c-41cc-a67b-ca314e257375",
        "colab": {
          "base_uri": "https://localhost:8080/",
          "height": 84
        }
      },
      "source": [
        "# Evaluate the model on the test data using `evaluate`\n",
        "print('\\n# Evaluate on validation set')\n",
        "results = model_3.evaluate(x_te, y_te, batch_size=batch_size)\n",
        "print('test loss, test acc:', results)"
      ],
      "execution_count": 16,
      "outputs": [
        {
          "output_type": "stream",
          "text": [
            "\n",
            "# Evaluate on validation set\n",
            "1576/1576 [==============================] - 0s 275us/sample - loss: 171.6283 - acc: 0.9454\n",
            "test loss, test acc: [171.62827118278156, 0.9454315]\n"
          ],
          "name": "stdout"
        }
      ]
    },
    {
      "cell_type": "code",
      "metadata": {
        "colab_type": "code",
        "id": "okL3DbpFQJaT",
        "colab": {}
      },
      "source": [
        ""
      ],
      "execution_count": 0,
      "outputs": []
    },
    {
      "cell_type": "markdown",
      "metadata": {
        "colab_type": "text",
        "id": "OwyNWCJPQjo6"
      },
      "source": [
        "Without Transfer Learning"
      ]
    },
    {
      "cell_type": "code",
      "metadata": {
        "colab_type": "code",
        "id": "9RvsfTm1Qlqq",
        "colab": {}
      },
      "source": [
        "IMG_HEIGHT = 128\n",
        "IMG_WIDTH = 128\n",
        "with tf.device(device_name):\n",
        "  new_model = Sequential([\n",
        "        Conv2D(16, 11, padding='same', activation='relu', input_shape=(IMG_HEIGHT, IMG_WIDTH ,1)),\n",
        "        MaxPooling2D(),\n",
        "        Conv2D(32, 11, padding='same', activation='relu'),\n",
        "        MaxPooling2D(),\n",
        "        Flatten(),\n",
        "        Dropout(0.2),\n",
        "        Dense(128, activation='relu'),\n",
        "        \n",
        "        Dense(1, activation='sigmoid')\n",
        "    ])\n",
        "  new_model.compile(optimizer='adam',\n",
        "                  loss='binary_crossentropy',\n",
        "                  metrics=['accuracy'])\n"
      ],
      "execution_count": 0,
      "outputs": []
    },
    {
      "cell_type": "code",
      "metadata": {
        "colab_type": "code",
        "id": "Fpq920PIQuGh",
        "outputId": "04d27b31-34d0-4e07-b12b-2dc1716f6b5d",
        "colab": {
          "base_uri": "https://localhost:8080/",
          "height": 1000
        }
      },
      "source": [
        "history=new_model.fit_generator(\n",
        "              train_data_gen,\n",
        "              steps_per_epoch=total_train // batch_size,\n",
        "              epochs=50,\n",
        "              validation_data=val_data_gen,\n",
        "              \n",
        "              validation_steps=total_val // batch_size\n",
        "          )"
      ],
      "execution_count": 18,
      "outputs": [
        {
          "output_type": "stream",
          "text": [
            "Epoch 1/50\n",
            "27/29 [==========================>...] - ETA: 0s - loss: 0.5753 - acc: 0.8044Epoch 1/50\n",
            "29/29 [==============================] - 2s 62ms/step - loss: 0.5579 - acc: 0.8103 - val_loss: 0.4937 - val_acc: 0.8047\n",
            "Epoch 2/50\n",
            "27/29 [==========================>...] - ETA: 0s - loss: 0.3652 - acc: 0.8391Epoch 1/50\n",
            "29/29 [==============================] - 1s 42ms/step - loss: 0.3599 - acc: 0.8405 - val_loss: 0.1650 - val_acc: 0.9688\n",
            "Epoch 3/50\n",
            "27/29 [==========================>...] - ETA: 0s - loss: 0.2741 - acc: 0.8831Epoch 1/50\n",
            "29/29 [==============================] - 1s 43ms/step - loss: 0.2802 - acc: 0.8782 - val_loss: 0.1822 - val_acc: 0.9531\n",
            "Epoch 4/50\n",
            "27/29 [==========================>...] - ETA: 0s - loss: 0.3069 - acc: 0.8659Epoch 1/50\n",
            "29/29 [==============================] - 1s 43ms/step - loss: 0.3007 - acc: 0.8699 - val_loss: 0.2010 - val_acc: 0.9062\n",
            "Epoch 5/50\n",
            "28/29 [===========================>..] - ETA: 0s - loss: 0.2457 - acc: 0.8839Epoch 1/50\n",
            "29/29 [==============================] - 1s 47ms/step - loss: 0.2405 - acc: 0.8879 - val_loss: 0.0907 - val_acc: 0.9688\n",
            "Epoch 6/50\n",
            "27/29 [==========================>...] - ETA: 0s - loss: 0.2562 - acc: 0.8831Epoch 1/50\n",
            "29/29 [==============================] - 1s 44ms/step - loss: 0.2575 - acc: 0.8804 - val_loss: 0.0827 - val_acc: 0.9792\n",
            "Epoch 7/50\n",
            "27/29 [==========================>...] - ETA: 0s - loss: 0.2681 - acc: 0.9138Epoch 1/50\n",
            "29/29 [==============================] - 1s 43ms/step - loss: 0.2676 - acc: 0.9132 - val_loss: 0.1875 - val_acc: 0.9167\n",
            "Epoch 8/50\n",
            "27/29 [==========================>...] - ETA: 0s - loss: 0.1899 - acc: 0.9317Epoch 1/50\n",
            "29/29 [==============================] - 1s 44ms/step - loss: 0.1905 - acc: 0.9310 - val_loss: 0.0791 - val_acc: 0.9688\n",
            "Epoch 9/50\n",
            "27/29 [==========================>...] - ETA: 0s - loss: 0.1956 - acc: 0.9282Epoch 1/50\n",
            "29/29 [==============================] - 1s 46ms/step - loss: 0.1927 - acc: 0.9289 - val_loss: 0.0984 - val_acc: 0.9661\n",
            "Epoch 10/50\n",
            "27/29 [==========================>...] - ETA: 0s - loss: 0.1929 - acc: 0.9306Epoch 1/50\n",
            "29/29 [==============================] - 1s 44ms/step - loss: 0.1994 - acc: 0.9278 - val_loss: 0.0690 - val_acc: 0.9714\n",
            "Epoch 11/50\n",
            "28/29 [===========================>..] - ETA: 0s - loss: 0.1980 - acc: 0.9204Epoch 1/50\n",
            "29/29 [==============================] - 1s 42ms/step - loss: 0.2025 - acc: 0.9188 - val_loss: 0.0420 - val_acc: 0.9844\n",
            "Epoch 12/50\n",
            "27/29 [==========================>...] - ETA: 0s - loss: 0.1857 - acc: 0.9329Epoch 1/50\n",
            "29/29 [==============================] - 1s 44ms/step - loss: 0.1811 - acc: 0.9353 - val_loss: 0.0628 - val_acc: 0.9818\n",
            "Epoch 13/50\n",
            "27/29 [==========================>...] - ETA: 0s - loss: 0.1715 - acc: 0.9340Epoch 1/50\n",
            "29/29 [==============================] - 1s 47ms/step - loss: 0.1857 - acc: 0.9300 - val_loss: 0.0345 - val_acc: 0.9922\n",
            "Epoch 14/50\n",
            "27/29 [==========================>...] - ETA: 0s - loss: 0.2256 - acc: 0.9062Epoch 1/50\n",
            "29/29 [==============================] - 1s 44ms/step - loss: 0.2159 - acc: 0.9127 - val_loss: 0.0609 - val_acc: 0.9792\n",
            "Epoch 15/50\n",
            "27/29 [==========================>...] - ETA: 0s - loss: 0.1459 - acc: 0.9421Epoch 1/50\n",
            "29/29 [==============================] - 1s 43ms/step - loss: 0.1494 - acc: 0.9418 - val_loss: 0.0333 - val_acc: 0.9896\n",
            "Epoch 16/50\n",
            "27/29 [==========================>...] - ETA: 0s - loss: 0.1359 - acc: 0.9485Epoch 1/50\n",
            "29/29 [==============================] - 1s 43ms/step - loss: 0.1359 - acc: 0.9488 - val_loss: 0.0437 - val_acc: 0.9792\n",
            "Epoch 17/50\n",
            "27/29 [==========================>...] - ETA: 0s - loss: 0.1359 - acc: 0.9479Epoch 1/50\n",
            "29/29 [==============================] - 1s 45ms/step - loss: 0.1316 - acc: 0.9483 - val_loss: 0.0320 - val_acc: 0.9922\n",
            "Epoch 18/50\n",
            "28/29 [===========================>..] - ETA: 0s - loss: 0.1344 - acc: 0.9469Epoch 1/50\n",
            "29/29 [==============================] - 1s 43ms/step - loss: 0.1332 - acc: 0.9477 - val_loss: 0.0510 - val_acc: 0.9792\n",
            "Epoch 19/50\n",
            "28/29 [===========================>..] - ETA: 0s - loss: 0.1591 - acc: 0.9375Epoch 1/50\n",
            "29/29 [==============================] - 1s 44ms/step - loss: 0.1641 - acc: 0.9375 - val_loss: 0.0351 - val_acc: 0.9922\n",
            "Epoch 20/50\n",
            "27/29 [==========================>...] - ETA: 0s - loss: 0.1696 - acc: 0.9375Epoch 1/50\n",
            "29/29 [==============================] - 1s 44ms/step - loss: 0.1656 - acc: 0.9397 - val_loss: 0.0303 - val_acc: 0.9896\n",
            "Epoch 21/50\n",
            "27/29 [==========================>...] - ETA: 0s - loss: 0.1208 - acc: 0.9583Epoch 1/50\n",
            "29/29 [==============================] - 1s 48ms/step - loss: 0.1217 - acc: 0.9558 - val_loss: 0.0364 - val_acc: 0.9870\n",
            "Epoch 22/50\n",
            "27/29 [==========================>...] - ETA: 0s - loss: 0.0998 - acc: 0.9581Epoch 1/50\n",
            "29/29 [==============================] - 1s 43ms/step - loss: 0.1053 - acc: 0.9577 - val_loss: 0.0845 - val_acc: 0.9609\n",
            "Epoch 23/50\n",
            "27/29 [==========================>...] - ETA: 0s - loss: 0.1896 - acc: 0.9282Epoch 1/50\n",
            "29/29 [==============================] - 1s 45ms/step - loss: 0.1925 - acc: 0.9289 - val_loss: 0.0802 - val_acc: 0.9740\n",
            "Epoch 24/50\n",
            "27/29 [==========================>...] - ETA: 0s - loss: 0.1334 - acc: 0.9514Epoch 1/50\n",
            "29/29 [==============================] - 1s 44ms/step - loss: 0.1323 - acc: 0.9537 - val_loss: 0.0377 - val_acc: 0.9922\n",
            "Epoch 25/50\n",
            "27/29 [==========================>...] - ETA: 0s - loss: 0.1709 - acc: 0.9387Epoch 1/50\n",
            "29/29 [==============================] - 1s 47ms/step - loss: 0.1670 - acc: 0.9397 - val_loss: 0.0448 - val_acc: 0.9870\n",
            "Epoch 26/50\n",
            "27/29 [==========================>...] - ETA: 0s - loss: 0.1250 - acc: 0.9549Epoch 1/50\n",
            "29/29 [==============================] - 1s 44ms/step - loss: 0.1240 - acc: 0.9537 - val_loss: 0.0305 - val_acc: 0.9948\n",
            "Epoch 27/50\n",
            "28/29 [===========================>..] - ETA: 0s - loss: 0.1294 - acc: 0.9587Epoch 1/50\n",
            "29/29 [==============================] - 1s 44ms/step - loss: 0.1278 - acc: 0.9591 - val_loss: 0.0244 - val_acc: 0.9974\n",
            "Epoch 28/50\n",
            "27/29 [==========================>...] - ETA: 0s - loss: 0.1390 - acc: 0.9401Epoch 1/50\n",
            "29/29 [==============================] - 1s 43ms/step - loss: 0.1401 - acc: 0.9410 - val_loss: 0.0339 - val_acc: 0.9922\n",
            "Epoch 29/50\n",
            "27/29 [==========================>...] - ETA: 0s - loss: 0.1223 - acc: 0.9630Epoch 1/50\n",
            "29/29 [==============================] - 1s 47ms/step - loss: 0.1251 - acc: 0.9612 - val_loss: 0.0428 - val_acc: 0.9844\n",
            "Epoch 30/50\n",
            "27/29 [==========================>...] - ETA: 0s - loss: 0.1403 - acc: 0.9468Epoch 1/50\n",
            "29/29 [==============================] - 1s 44ms/step - loss: 0.1405 - acc: 0.9461 - val_loss: 0.0600 - val_acc: 0.9766\n",
            "Epoch 31/50\n",
            "28/29 [===========================>..] - ETA: 0s - loss: 0.1144 - acc: 0.9654Epoch 1/50\n",
            "29/29 [==============================] - 1s 41ms/step - loss: 0.1172 - acc: 0.9644 - val_loss: 0.0258 - val_acc: 0.9948\n",
            "Epoch 32/50\n",
            "27/29 [==========================>...] - ETA: 0s - loss: 0.1323 - acc: 0.9525Epoch 1/50\n",
            "29/29 [==============================] - 1s 43ms/step - loss: 0.1347 - acc: 0.9526 - val_loss: 0.0657 - val_acc: 0.9818\n",
            "Epoch 33/50\n",
            "28/29 [===========================>..] - ETA: 0s - loss: 0.1236 - acc: 0.9464Epoch 1/50\n",
            "29/29 [==============================] - 1s 44ms/step - loss: 0.1203 - acc: 0.9483 - val_loss: 0.0250 - val_acc: 0.9948\n",
            "Epoch 34/50\n",
            "28/29 [===========================>..] - ETA: 0s - loss: 0.1136 - acc: 0.9565Epoch 1/50\n",
            "29/29 [==============================] - 1s 43ms/step - loss: 0.1132 - acc: 0.9569 - val_loss: 0.0315 - val_acc: 0.9844\n",
            "Epoch 35/50\n",
            "27/29 [==========================>...] - ETA: 0s - loss: 0.1224 - acc: 0.9572Epoch 1/50\n",
            "29/29 [==============================] - 1s 44ms/step - loss: 0.1217 - acc: 0.9580 - val_loss: 0.0331 - val_acc: 0.9948\n",
            "Epoch 36/50\n",
            "27/29 [==========================>...] - ETA: 0s - loss: 0.1167 - acc: 0.9491Epoch 1/50\n",
            "29/29 [==============================] - 1s 43ms/step - loss: 0.1119 - acc: 0.9515 - val_loss: 0.0439 - val_acc: 0.9896\n",
            "Epoch 37/50\n",
            "28/29 [===========================>..] - ETA: 0s - loss: 0.0885 - acc: 0.9678Epoch 1/50\n",
            "29/29 [==============================] - 1s 42ms/step - loss: 0.0907 - acc: 0.9667 - val_loss: 0.1198 - val_acc: 0.9583\n",
            "Epoch 38/50\n",
            "27/29 [==========================>...] - ETA: 0s - loss: 0.1586 - acc: 0.9421Epoch 1/50\n",
            "29/29 [==============================] - 1s 43ms/step - loss: 0.1581 - acc: 0.9407 - val_loss: 0.0445 - val_acc: 0.9792\n",
            "Epoch 39/50\n",
            "27/29 [==========================>...] - ETA: 0s - loss: 0.1183 - acc: 0.9560Epoch 1/50\n",
            "29/29 [==============================] - 1s 43ms/step - loss: 0.1135 - acc: 0.9580 - val_loss: 0.0329 - val_acc: 0.9922\n",
            "Epoch 40/50\n",
            "27/29 [==========================>...] - ETA: 0s - loss: 0.1288 - acc: 0.9491Epoch 1/50\n",
            "29/29 [==============================] - 1s 43ms/step - loss: 0.1285 - acc: 0.9472 - val_loss: 0.0233 - val_acc: 0.9974\n",
            "Epoch 41/50\n",
            "27/29 [==========================>...] - ETA: 0s - loss: 0.1187 - acc: 0.9502Epoch 1/50\n",
            "29/29 [==============================] - 1s 46ms/step - loss: 0.1133 - acc: 0.9526 - val_loss: 0.0212 - val_acc: 0.9948\n",
            "Epoch 42/50\n",
            "27/29 [==========================>...] - ETA: 0s - loss: 0.1452 - acc: 0.9525Epoch 1/50\n",
            "29/29 [==============================] - 1s 44ms/step - loss: 0.1400 - acc: 0.9537 - val_loss: 0.0518 - val_acc: 0.9844\n",
            "Epoch 43/50\n",
            "27/29 [==========================>...] - ETA: 0s - loss: 0.1051 - acc: 0.9595Epoch 1/50\n",
            "29/29 [==============================] - 1s 44ms/step - loss: 0.1064 - acc: 0.9601 - val_loss: 0.0383 - val_acc: 0.9896\n",
            "Epoch 44/50\n",
            "28/29 [===========================>..] - ETA: 0s - loss: 0.1090 - acc: 0.9573Epoch 1/50\n",
            "29/29 [==============================] - 1s 42ms/step - loss: 0.1083 - acc: 0.9577 - val_loss: 0.0284 - val_acc: 0.9948\n",
            "Epoch 45/50\n",
            "28/29 [===========================>..] - ETA: 0s - loss: 0.0907 - acc: 0.9621Epoch 1/50\n",
            "29/29 [==============================] - 1s 47ms/step - loss: 0.0931 - acc: 0.9612 - val_loss: 0.0320 - val_acc: 0.9922\n",
            "Epoch 46/50\n",
            "27/29 [==========================>...] - ETA: 0s - loss: 0.1309 - acc: 0.9605Epoch 1/50\n",
            "29/29 [==============================] - 1s 44ms/step - loss: 0.1335 - acc: 0.9566 - val_loss: 0.0373 - val_acc: 0.9870\n",
            "Epoch 47/50\n",
            "27/29 [==========================>...] - ETA: 0s - loss: 0.1405 - acc: 0.9398Epoch 1/50\n",
            "29/29 [==============================] - 1s 43ms/step - loss: 0.1370 - acc: 0.9418 - val_loss: 0.0534 - val_acc: 0.9818\n",
            "Epoch 48/50\n",
            "28/29 [===========================>..] - ETA: 0s - loss: 0.1052 - acc: 0.9609Epoch 1/50\n",
            "29/29 [==============================] - 1s 44ms/step - loss: 0.1031 - acc: 0.9612 - val_loss: 0.0374 - val_acc: 0.9896\n",
            "Epoch 49/50\n",
            "27/29 [==========================>...] - ETA: 0s - loss: 0.1184 - acc: 0.9583Epoch 1/50\n",
            "29/29 [==============================] - 1s 45ms/step - loss: 0.1139 - acc: 0.9580 - val_loss: 0.0313 - val_acc: 0.9922\n",
            "Epoch 50/50\n",
            "27/29 [==========================>...] - ETA: 0s - loss: 0.0836 - acc: 0.9676Epoch 1/50\n",
            "29/29 [==============================] - 1s 44ms/step - loss: 0.0859 - acc: 0.9655 - val_loss: 0.0516 - val_acc: 0.9792\n"
          ],
          "name": "stdout"
        }
      ]
    },
    {
      "cell_type": "code",
      "metadata": {
        "colab_type": "code",
        "id": "_csv4Q0lQ272",
        "outputId": "5a4d1968-4296-4b1a-d28e-0a5960349966",
        "colab": {
          "base_uri": "https://localhost:8080/",
          "height": 390
        }
      },
      "source": [
        "acc = history.history['acc']\n",
        "val_acc = history.history['val_acc']\n",
        "\n",
        "loss = history.history['loss']\n",
        "val_loss = history.history['val_loss']\n",
        "\n",
        "epochs_range = range(50)\n",
        "\n",
        "plt.figure(figsize=(12, 6))\n",
        "plt.subplot(1, 2, 1)\n",
        "plt.plot(epochs_range, acc, label='Training Accuracy')\n",
        "plt.plot(epochs_range, val_acc, label='Validation Accuracy')\n",
        "plt.legend(loc='lower right')\n",
        "plt.title('Training and Validation Accuracy')\n",
        "\n",
        "plt.subplot(1, 2, 2)\n",
        "plt.plot(epochs_range, loss, label='Training Loss')\n",
        "plt.plot(epochs_range, val_loss, label='Validation Loss')\n",
        "plt.legend(loc='upper right')\n",
        "plt.title('Training and Validation Loss')\n",
        "plt.show()"
      ],
      "execution_count": 21,
      "outputs": [
        {
          "output_type": "display_data",
          "data": {
            "image/png": "[encoded data removed]",
            "text/plain": [
              "<Figure size 864x432 with 2 Axes>"
            ]
          },
          "metadata": {
            "tags": []
          }
        }
      ]
    },
    {
      "cell_type": "code",
      "metadata": {
        "colab_type": "code",
        "id": "KLANoiTXQ7Gg",
        "outputId": "a0451945-9a14-4ed9-befd-52c494930d3a",
        "colab": {
          "base_uri": "https://localhost:8080/",
          "height": 84
        }
      },
      "source": [
        "print('\\n# Evaluate on validation set')\n",
        "results = new_model.evaluate(x_te, y_te, batch_size=batch_size)\n",
        "print('test loss, test acc:', results)"
      ],
      "execution_count": 20,
      "outputs": [
        {
          "output_type": "stream",
          "text": [
            "\n",
            "# Evaluate on validation set\n",
            "1576/1576 [==============================] - 0s 139us/sample - loss: 168.0236 - acc: 0.9492\n",
            "test loss, test acc: [168.0235539934962, 0.9492386]\n"
          ],
          "name": "stdout"
        }
      ]
    },
    {
      "cell_type": "code",
      "metadata": {
        "colab_type": "code",
        "id": "eXkH3W45RS8V",
        "colab": {}
      },
      "source": [
        ""
      ],
      "execution_count": 0,
      "outputs": []
    }
  ]
}